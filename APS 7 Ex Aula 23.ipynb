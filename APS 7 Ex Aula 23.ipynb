{
 "cells": [
  {
   "cell_type": "markdown",
   "metadata": {},
   "source": [
    "# Experimento dos resistores - APS7 (um dos exercícios)\n",
    "\n",
    "** Compraria o lote de resistores pelo valor médio e pela tolerância? **\n",
    "\n",
    "Use a sua amostra para concluir se compraria o lote de resistores pelo controle de qualidade tanto quanto aos $1000 k\\Omega$ e quanto aos $5\\%$ de tolerância.\n",
    "\n",
    "Use 95% de confiança para tomada de decisão!"
   ]
  },
  {
   "cell_type": "code",
   "execution_count": 2,
   "metadata": {},
   "outputs": [],
   "source": [
    "import numpy as np\n",
    "import matplotlib.pyplot as plt\n",
    "import pandas as pd\n",
    "from scipy import stats\n",
    "import math\n",
    "\n",
    "%matplotlib inline"
   ]
  },
  {
   "cell_type": "code",
   "execution_count": 3,
   "metadata": {},
   "outputs": [
    {
     "data": {
      "text/plain": [
       "12"
      ]
     },
     "execution_count": 3,
     "metadata": {},
     "output_type": "execute_result"
    }
   ],
   "source": [
    "#Experimento dos resistores - APS7\n",
    "\n",
    "dados_da_amostra=[1004, 1025, 1013, 1033, 1053, 1032, 1027, 1055, 1044, 1061, 1037, 1042]\n",
    "dados_da_amostra = pd.Series(dados_da_amostra)\n",
    "\n",
    "n = len(dados_da_amostra)\n",
    "n"
   ]
  },
  {
   "cell_type": "code",
   "execution_count": 8,
   "metadata": {},
   "outputs": [],
   "source": [
    "#Média\n",
    "xbarra_Boot = []\n",
    "B = 10000\n",
    "for i in range(B):\n",
    "    # Gera uma reamostra dos dados _com_ reposição\n",
    "    x_barra = np.mean(np.random.choice(dados_da_amostra,size=n,replace=True))\n",
    "    xbarra_Boot.append(x_barra)"
   ]
  },
  {
   "cell_type": "code",
   "execution_count": 9,
   "metadata": {},
   "outputs": [
    {
     "name": "stdout",
     "output_type": "stream",
     "text": [
      "Intervalo de confiança:\n",
      "de 1026.25 à 1044.5\n"
     ]
    }
   ],
   "source": [
    "Xc1 = np.percentile(xbarra_Boot, 2.5)\n",
    "Xc2 = np.percentile(xbarra_Boot, 97.5)\n",
    "print ('Intervalo de confiança:')\n",
    "print('de',Xc1,'à', Xc2)"
   ]
  },
  {
   "cell_type": "code",
   "execution_count": 10,
   "metadata": {},
   "outputs": [],
   "source": [
    "#DP\n",
    "xbarra_Boot1 = []\n",
    "B1 = 10000\n",
    "for i in range(B1):\n",
    "    # Gera uma reamostra dos dados _com_ reposição\n",
    "    x_barra1 = np.std(np.random.choice(dados_da_amostra,size=n,replace=True), ddof = 1)\n",
    "    xbarra_Boot1.append(x_barra1)"
   ]
  },
  {
   "cell_type": "code",
   "execution_count": 11,
   "metadata": {},
   "outputs": [
    {
     "name": "stdout",
     "output_type": "stream",
     "text": [
      "Intervalo de confiança:\n",
      "de 9.866917482479552 à 21.402952213209772\n"
     ]
    }
   ],
   "source": [
    "Xc1_ = np.percentile(xbarra_Boot1, 2.5)\n",
    "Xc2_ = np.percentile(xbarra_Boot1, 97.5)\n",
    "print ('Intervalo de confiança:')\n",
    "print('de',Xc1_,'à', Xc2_)"
   ]
  },
  {
   "cell_type": "markdown",
   "metadata": {},
   "source": [
    "# Tomada de decisão\n",
    "Não compraria o lote de resistores, pois não há evidências de que a média e a variabilidade se encaixam nos valores descritos pelo fabricante (média = 1000 e dp = 5%)."
   ]
  }
 ],
 "metadata": {
  "kernelspec": {
   "display_name": "Python 3",
   "language": "python",
   "name": "python3"
  },
  "language_info": {
   "codemirror_mode": {
    "name": "ipython",
    "version": 3
   },
   "file_extension": ".py",
   "mimetype": "text/x-python",
   "name": "python",
   "nbconvert_exporter": "python",
   "pygments_lexer": "ipython3",
   "version": "3.6.4"
  }
 },
 "nbformat": 4,
 "nbformat_minor": 2
}
