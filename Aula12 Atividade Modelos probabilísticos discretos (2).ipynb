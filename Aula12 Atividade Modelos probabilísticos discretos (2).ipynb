{
 "cells": [
  {
   "cell_type": "markdown",
   "metadata": {},
   "source": [
    " ___\n",
    "# Atividade: Modelos probabilísticos discretos\n",
    "___\n",
    "\n",
    "## Aula 12\n",
    "\n",
    "**Referência de Leitura:**\n",
    "1. Magalhães e Lima (7ª. Edição): Seções 3.2 e 3.3\n",
    "\n",
    "**Hoje:**\n",
    "1.\tDescrever modelos discretos quanto aos resultados teóricos.\n",
    "2.\tExplicar a utilização de modelos probabilísticos no contexto da literatura estatística.\n",
    "3.\tContrastar resultados teóricos e empíricos.\n",
    "4.\tFechamento do conteúdo.\n",
    "\n",
    "**Próxima aula:**\n",
    "1. Leitura prévia necessária: Magalhães e Lima (7ª. Edição): Capítulo 6 - Seção 6.1.\n",
    "\n",
    "___"
   ]
  },
  {
   "cell_type": "code",
   "execution_count": 102,
   "metadata": {
    "collapsed": true
   },
   "outputs": [],
   "source": [
    "%matplotlib inline\n",
    "import pandas as pd\n",
    "import matplotlib.pyplot as plt\n",
    "\n",
    "from scipy import stats #importa apenas as funções de estatísticas da biblioteca SciPy.\n",
    "import itertools #importante para gerar todos os resultados possíveis!!\n"
   ]
  },
  {
   "cell_type": "markdown",
   "metadata": {},
   "source": [
    "___\n",
    "## <font color='blue'>Exercício 1</font>\n",
    "\n",
    "### <font color='red'>**Publicar no github até dia 10/04 INDIVIDUAL **</font>\n",
    "\n",
    "\n",
    "#### Este exercício irá explorar  construção de árvore de probabilidades com eventos e construção da distribuição de probabilidades de uma variável aleatória discreta. Ainda, irá explorar o modelo de distribuição probabilística Binomial\n",
    "\n",
    "Um resistor de 100K Ohms comprado na Santa Efigênia tem probabilidade de falha de 5%, segundo um fabricante ruim.\n",
    "\n",
    "Ainda, por suposição, admita que os resistores falhem de forma independente entre si.\n",
    "\n",
    "Um aluno de engenharia compra um pacote contendo $n$ resistores.\n",
    "\n",
    "1. Assuma $n=3$ e faça os itens a seguir.\n",
    "  1. Monte o espaço amostral que combine todos os resultados possíveis de Falha e não Falha desses $n$ resistores. Ainda, calcule a probabilidade de cada resultado do espaço amostral acontecer.\n",
    "  2. Se $Y$ representa o número de resistores que falham em um pacotinho com $n$ resistores, então construa a distribuição de probabilidades de $Y$.\n",
    "  3. Calcule a média e o desvio padrão de $Y$. Interprete os resultados.\n",
    "  4. Utilizando o modelo probabilístico da distribuição Binomial, encontre a distribuição de probabilidades de cada possível valor de $Y$. Calcule também $E(Y)$ e $Var(Y)$. Compare com as distribuições de probabilidades obtidas nos itens anteriores e discuta porque esses valores são iguais ou diferentes!\n",
    "   \n",
    "2. Assuma $n=7$ e repita os itens A) a D) anteriores. No caso de $n=7$ ou maiores quantidades de resistores em um pacotinho, qual a viabilidade de construir a distribuição de probabilidades do número de resistores com defeitos quando $n$ não é pequeno seguindo os itens de A) a C)?\n",
    " \n",
    "3. Com $n=100$, por exemplo, é extremamente inviável a construção de árvore de probabilidades até mesmo utilizando a poderosa ferramenta Python. \n",
    "  1. No caso assuma $n=100$ e repita o item 1.D) anterior. \n",
    "  2. Ainda, calcule a probabilidade de, em um pacote com 100 resistores, pelo menos a metade deles apresentarem falha?\n",
    "\n",
    "\n",
    "A seguir, um resumo sobre o modelo teórico Binomial!    \n",
    "> \n",
    "\n",
    "> **DISTRIBUIÇÃO BINOMIAL - TEORIA:**\n",
    "\n",
    "> É responsável por modelar uma variável $Y$ definida pelo Número de sucessos em $n$ tentativas, cuja probabilidade de sucesso é dada por $p$. Assim, dizemos que $Y$~$Bin(n,p)$ e lê-se: $Y$ segue uma distribuição binomial com $n$ tentativas e $p$ como probabilidade de sucesso. \n",
    "\n",
    "> A função de probabilidade nesse caso é dada por:\n",
    "$P(Y=y)=\\left(\n",
    "\\begin{array}{c}\n",
    "    n \\\\\n",
    "    y\n",
    "\\end{array}\\right) p^y (1-p)^{(n-y)}$\n",
    "\n",
    "> Para um experimento ter as probabilidade dos números de sucessos modeladas por uma distribuição Binomial, o mesmo precisa ter as seguintes propriedades:\n",
    "* é uma contagem de $n$ repetições (ou tentativas ou ensaios) idênticas;\n",
    "* cada repetição tem apenas 2 resultados possíveis: um é denominado sucesso e o outro, fracasso;\n",
    "* a probabilidade de sucesso para cada ensaio é denominada $p$ e será constante em cada repetição. Então, a probabilidade de fracasso $(1-p)$ também não varia de tentativa para tentativa;\n",
    "* As tentativas são independentes.\n",
    "\n",
    "\n",
    "> **DISTRIBUIÇÃO BINOMIAL - PYTHON:** <sup> [https://en.wikipedia.org/wiki/SciPy]\n",
    "\n",
    "> Algumas funções úteis para desenvolver seu código: <sup> [http://docs.scipy.org/doc/scipy-0.16.1/reference/generated/scipy.stats.binom.html]\n",
    "* $P(Y=y)$: `stats.binom.pmf(y, n, p)`\n",
    "* $P(Y\\leq y)$: `stats.binom.cdf(y, n, p)`\n",
    "* $E(Y)$ e $Var(Y)$: `stats.binom.stats(n, p, moments='mv')`\n",
    "\n"
   ]
  },
  {
   "cell_type": "code",
   "execution_count": 103,
   "metadata": {
    "collapsed": true
   },
   "outputs": [],
   "source": [
    "#item 1\n",
    "n=3\n",
    "#item 2\n",
    "n=7"
   ]
  },
  {
   "cell_type": "markdown",
   "metadata": {},
   "source": [
    "1 - A) Espaço amostral:"
   ]
  },
  {
   "cell_type": "code",
   "execution_count": 104,
   "metadata": {},
   "outputs": [
    {
     "data": {
      "text/plain": [
       "[('S', 'S', 'S'),\n",
       " ('S', 'S', 'F'),\n",
       " ('S', 'F', 'S'),\n",
       " ('S', 'F', 'F'),\n",
       " ('F', 'S', 'S'),\n",
       " ('F', 'S', 'F'),\n",
       " ('F', 'F', 'S'),\n",
       " ('F', 'F', 'F')]"
      ]
     },
     "execution_count": 104,
     "metadata": {},
     "output_type": "execute_result"
    }
   ],
   "source": [
    "possibilidades = [\"S\", \"F\"]\n",
    "\n",
    "prob = {\"S\": 0.95, \"F\":0.05}\n",
    "\n",
    "n=3\n",
    "\n",
    "arranjos = itertools.product(possibilidades, repeat=n)\n",
    "espaco_amostral = list(arranjos)\n",
    "\n",
    "espaco_amostral"
   ]
  },
  {
   "cell_type": "markdown",
   "metadata": {},
   "source": [
    "Probabilidade de cada resultado do espaço amostral acontecer:"
   ]
  },
  {
   "cell_type": "code",
   "execution_count": 105,
   "metadata": {},
   "outputs": [
    {
     "name": "stdout",
     "output_type": "stream",
     "text": [
      "Probabilidade de  ('S', 'S', 'S')  é igual a  0.85737\n",
      "Probabilidade de  ('S', 'S', 'F')  é igual a  0.04512\n",
      "Probabilidade de  ('S', 'F', 'S')  é igual a  0.04512\n",
      "Probabilidade de  ('S', 'F', 'F')  é igual a  0.00238\n",
      "Probabilidade de  ('F', 'S', 'S')  é igual a  0.04512\n",
      "Probabilidade de  ('F', 'S', 'F')  é igual a  0.00238\n",
      "Probabilidade de  ('F', 'F', 'S')  é igual a  0.00238\n",
      "Probabilidade de  ('F', 'F', 'F')  é igual a  0.00013\n"
     ]
    }
   ],
   "source": [
    "prob_linhas = []\n",
    "\n",
    "for res in espaco_amostral:\n",
    "    p = 1.0\n",
    "    for e in res:\n",
    "        p*=prob[e]\n",
    "    prob_linhas.append(p)\n",
    "    print(\"Probabilidade de \",res,\" é igual a \",\"%3.5f\"%p)"
   ]
  },
  {
   "cell_type": "code",
   "execution_count": 106,
   "metadata": {},
   "outputs": [
    {
     "data": {
      "text/plain": [
       "'1.00000'"
      ]
     },
     "execution_count": 106,
     "metadata": {},
     "output_type": "execute_result"
    }
   ],
   "source": [
    "#Conferindo\n",
    "\n",
    "\"%3.5f\"%sum(prob_linhas)"
   ]
  },
  {
   "cell_type": "markdown",
   "metadata": {},
   "source": [
    "1 - B) Distribuição de probabilidades de Y:"
   ]
  },
  {
   "cell_type": "code",
   "execution_count": 107,
   "metadata": {},
   "outputs": [
    {
     "name": "stdout",
     "output_type": "stream",
     "text": [
      "Distribuição de probabilidades da variável aleatória Y - Resistores que falharam\n",
      "\n",
      "Falhas:  0  Probabilidade 0.85737 \n",
      "Falhas:  1  Probabilidade 0.13537 \n",
      "Falhas:  2  Probabilidade 0.00713 \n",
      "Falhas:  3  Probabilidade 0.00013 \n"
     ]
    }
   ],
   "source": [
    "# Dicionário para acumular a variável aleatória. \n",
    "valores_Y = {}\n",
    "\n",
    "for i in range(len(espaco_amostral)):\n",
    "    y = espaco_amostral[i].count(\"F\")\n",
    "    # Checar antes se a chave está no dicionário\n",
    "    if y in valores_Y:\n",
    "        valores_Y[y] += prob_linhas[i]\n",
    "    else:\n",
    "        valores_Y[y] = prob_linhas[i]\n",
    "        \n",
    "print(\"Distribuição de probabilidades da variável aleatória Y - Resistores que falharam\")\n",
    "print('')\n",
    "for y in valores_Y:\n",
    "    print(\"Falhas: \", y, \" Probabilidade\", \"%6.5f \"%valores_Y[y])"
   ]
  },
  {
   "cell_type": "markdown",
   "metadata": {},
   "source": [
    "1 - C) Média e Desvio Padrão:"
   ]
  },
  {
   "cell_type": "code",
   "execution_count": 108,
   "metadata": {},
   "outputs": [
    {
     "name": "stdout",
     "output_type": "stream",
     "text": [
      "Média: 0.15002 Desvio Padrão: 0.37749172229335043\n"
     ]
    }
   ],
   "source": [
    "Mean = 0.85737*0 +  0.13537*1 + 0.00713 *2 + 0.00013* 3\n",
    "\n",
    "Var = 0\n",
    "for i in valores_Y:\n",
    "    Var = Var+(i-Mean)**2*valores_Y[i]\n",
    "DP = (Var)**(1/2)\n",
    "\n",
    "print('Média:',Mean,'Desvio Padrão:',DP)"
   ]
  },
  {
   "cell_type": "markdown",
   "metadata": {},
   "source": [
    "1 - D)\n",
    "distribuição de probabilidades de cada possível valor de  Y (de 0 falhas à 3):\n"
   ]
  },
  {
   "cell_type": "code",
   "execution_count": 109,
   "metadata": {},
   "outputs": [
    {
     "name": "stdout",
     "output_type": "stream",
     "text": [
      "0.999625046873\n",
      "0.000374906255859\n",
      "4.6869140625e-08\n",
      "1.953125e-12\n"
     ]
    }
   ],
   "source": [
    "n=3\n",
    "for i in range(4):\n",
    "    P = stats.binom.pmf(i, n, p)\n",
    "    print(P)\n"
   ]
  },
  {
   "cell_type": "markdown",
   "metadata": {},
   "source": [
    "Esperança e Variância de Y:"
   ]
  },
  {
   "cell_type": "code",
   "execution_count": 110,
   "metadata": {},
   "outputs": [
    {
     "name": "stdout",
     "output_type": "stream",
     "text": [
      "0.0003750000000000001\n",
      "0.0003749531250000001\n"
     ]
    }
   ],
   "source": [
    "E,Var = stats.binom.stats(n, p, moments='mv')\n",
    "print(E) #E(Y)\n",
    "print(Var) #Var(Y)"
   ]
  },
  {
   "cell_type": "markdown",
   "metadata": {},
   "source": [
    "2 - A) Espaço amostral:"
   ]
  },
  {
   "cell_type": "code",
   "execution_count": 111,
   "metadata": {},
   "outputs": [
    {
     "data": {
      "text/plain": [
       "[('S', 'S', 'S', 'S', 'S', 'S', 'S'),\n",
       " ('S', 'S', 'S', 'S', 'S', 'S', 'F'),\n",
       " ('S', 'S', 'S', 'S', 'S', 'F', 'S'),\n",
       " ('S', 'S', 'S', 'S', 'S', 'F', 'F'),\n",
       " ('S', 'S', 'S', 'S', 'F', 'S', 'S'),\n",
       " ('S', 'S', 'S', 'S', 'F', 'S', 'F'),\n",
       " ('S', 'S', 'S', 'S', 'F', 'F', 'S'),\n",
       " ('S', 'S', 'S', 'S', 'F', 'F', 'F'),\n",
       " ('S', 'S', 'S', 'F', 'S', 'S', 'S'),\n",
       " ('S', 'S', 'S', 'F', 'S', 'S', 'F'),\n",
       " ('S', 'S', 'S', 'F', 'S', 'F', 'S'),\n",
       " ('S', 'S', 'S', 'F', 'S', 'F', 'F'),\n",
       " ('S', 'S', 'S', 'F', 'F', 'S', 'S'),\n",
       " ('S', 'S', 'S', 'F', 'F', 'S', 'F'),\n",
       " ('S', 'S', 'S', 'F', 'F', 'F', 'S'),\n",
       " ('S', 'S', 'S', 'F', 'F', 'F', 'F'),\n",
       " ('S', 'S', 'F', 'S', 'S', 'S', 'S'),\n",
       " ('S', 'S', 'F', 'S', 'S', 'S', 'F'),\n",
       " ('S', 'S', 'F', 'S', 'S', 'F', 'S'),\n",
       " ('S', 'S', 'F', 'S', 'S', 'F', 'F'),\n",
       " ('S', 'S', 'F', 'S', 'F', 'S', 'S'),\n",
       " ('S', 'S', 'F', 'S', 'F', 'S', 'F'),\n",
       " ('S', 'S', 'F', 'S', 'F', 'F', 'S'),\n",
       " ('S', 'S', 'F', 'S', 'F', 'F', 'F'),\n",
       " ('S', 'S', 'F', 'F', 'S', 'S', 'S'),\n",
       " ('S', 'S', 'F', 'F', 'S', 'S', 'F'),\n",
       " ('S', 'S', 'F', 'F', 'S', 'F', 'S'),\n",
       " ('S', 'S', 'F', 'F', 'S', 'F', 'F'),\n",
       " ('S', 'S', 'F', 'F', 'F', 'S', 'S'),\n",
       " ('S', 'S', 'F', 'F', 'F', 'S', 'F'),\n",
       " ('S', 'S', 'F', 'F', 'F', 'F', 'S'),\n",
       " ('S', 'S', 'F', 'F', 'F', 'F', 'F'),\n",
       " ('S', 'F', 'S', 'S', 'S', 'S', 'S'),\n",
       " ('S', 'F', 'S', 'S', 'S', 'S', 'F'),\n",
       " ('S', 'F', 'S', 'S', 'S', 'F', 'S'),\n",
       " ('S', 'F', 'S', 'S', 'S', 'F', 'F'),\n",
       " ('S', 'F', 'S', 'S', 'F', 'S', 'S'),\n",
       " ('S', 'F', 'S', 'S', 'F', 'S', 'F'),\n",
       " ('S', 'F', 'S', 'S', 'F', 'F', 'S'),\n",
       " ('S', 'F', 'S', 'S', 'F', 'F', 'F'),\n",
       " ('S', 'F', 'S', 'F', 'S', 'S', 'S'),\n",
       " ('S', 'F', 'S', 'F', 'S', 'S', 'F'),\n",
       " ('S', 'F', 'S', 'F', 'S', 'F', 'S'),\n",
       " ('S', 'F', 'S', 'F', 'S', 'F', 'F'),\n",
       " ('S', 'F', 'S', 'F', 'F', 'S', 'S'),\n",
       " ('S', 'F', 'S', 'F', 'F', 'S', 'F'),\n",
       " ('S', 'F', 'S', 'F', 'F', 'F', 'S'),\n",
       " ('S', 'F', 'S', 'F', 'F', 'F', 'F'),\n",
       " ('S', 'F', 'F', 'S', 'S', 'S', 'S'),\n",
       " ('S', 'F', 'F', 'S', 'S', 'S', 'F'),\n",
       " ('S', 'F', 'F', 'S', 'S', 'F', 'S'),\n",
       " ('S', 'F', 'F', 'S', 'S', 'F', 'F'),\n",
       " ('S', 'F', 'F', 'S', 'F', 'S', 'S'),\n",
       " ('S', 'F', 'F', 'S', 'F', 'S', 'F'),\n",
       " ('S', 'F', 'F', 'S', 'F', 'F', 'S'),\n",
       " ('S', 'F', 'F', 'S', 'F', 'F', 'F'),\n",
       " ('S', 'F', 'F', 'F', 'S', 'S', 'S'),\n",
       " ('S', 'F', 'F', 'F', 'S', 'S', 'F'),\n",
       " ('S', 'F', 'F', 'F', 'S', 'F', 'S'),\n",
       " ('S', 'F', 'F', 'F', 'S', 'F', 'F'),\n",
       " ('S', 'F', 'F', 'F', 'F', 'S', 'S'),\n",
       " ('S', 'F', 'F', 'F', 'F', 'S', 'F'),\n",
       " ('S', 'F', 'F', 'F', 'F', 'F', 'S'),\n",
       " ('S', 'F', 'F', 'F', 'F', 'F', 'F'),\n",
       " ('F', 'S', 'S', 'S', 'S', 'S', 'S'),\n",
       " ('F', 'S', 'S', 'S', 'S', 'S', 'F'),\n",
       " ('F', 'S', 'S', 'S', 'S', 'F', 'S'),\n",
       " ('F', 'S', 'S', 'S', 'S', 'F', 'F'),\n",
       " ('F', 'S', 'S', 'S', 'F', 'S', 'S'),\n",
       " ('F', 'S', 'S', 'S', 'F', 'S', 'F'),\n",
       " ('F', 'S', 'S', 'S', 'F', 'F', 'S'),\n",
       " ('F', 'S', 'S', 'S', 'F', 'F', 'F'),\n",
       " ('F', 'S', 'S', 'F', 'S', 'S', 'S'),\n",
       " ('F', 'S', 'S', 'F', 'S', 'S', 'F'),\n",
       " ('F', 'S', 'S', 'F', 'S', 'F', 'S'),\n",
       " ('F', 'S', 'S', 'F', 'S', 'F', 'F'),\n",
       " ('F', 'S', 'S', 'F', 'F', 'S', 'S'),\n",
       " ('F', 'S', 'S', 'F', 'F', 'S', 'F'),\n",
       " ('F', 'S', 'S', 'F', 'F', 'F', 'S'),\n",
       " ('F', 'S', 'S', 'F', 'F', 'F', 'F'),\n",
       " ('F', 'S', 'F', 'S', 'S', 'S', 'S'),\n",
       " ('F', 'S', 'F', 'S', 'S', 'S', 'F'),\n",
       " ('F', 'S', 'F', 'S', 'S', 'F', 'S'),\n",
       " ('F', 'S', 'F', 'S', 'S', 'F', 'F'),\n",
       " ('F', 'S', 'F', 'S', 'F', 'S', 'S'),\n",
       " ('F', 'S', 'F', 'S', 'F', 'S', 'F'),\n",
       " ('F', 'S', 'F', 'S', 'F', 'F', 'S'),\n",
       " ('F', 'S', 'F', 'S', 'F', 'F', 'F'),\n",
       " ('F', 'S', 'F', 'F', 'S', 'S', 'S'),\n",
       " ('F', 'S', 'F', 'F', 'S', 'S', 'F'),\n",
       " ('F', 'S', 'F', 'F', 'S', 'F', 'S'),\n",
       " ('F', 'S', 'F', 'F', 'S', 'F', 'F'),\n",
       " ('F', 'S', 'F', 'F', 'F', 'S', 'S'),\n",
       " ('F', 'S', 'F', 'F', 'F', 'S', 'F'),\n",
       " ('F', 'S', 'F', 'F', 'F', 'F', 'S'),\n",
       " ('F', 'S', 'F', 'F', 'F', 'F', 'F'),\n",
       " ('F', 'F', 'S', 'S', 'S', 'S', 'S'),\n",
       " ('F', 'F', 'S', 'S', 'S', 'S', 'F'),\n",
       " ('F', 'F', 'S', 'S', 'S', 'F', 'S'),\n",
       " ('F', 'F', 'S', 'S', 'S', 'F', 'F'),\n",
       " ('F', 'F', 'S', 'S', 'F', 'S', 'S'),\n",
       " ('F', 'F', 'S', 'S', 'F', 'S', 'F'),\n",
       " ('F', 'F', 'S', 'S', 'F', 'F', 'S'),\n",
       " ('F', 'F', 'S', 'S', 'F', 'F', 'F'),\n",
       " ('F', 'F', 'S', 'F', 'S', 'S', 'S'),\n",
       " ('F', 'F', 'S', 'F', 'S', 'S', 'F'),\n",
       " ('F', 'F', 'S', 'F', 'S', 'F', 'S'),\n",
       " ('F', 'F', 'S', 'F', 'S', 'F', 'F'),\n",
       " ('F', 'F', 'S', 'F', 'F', 'S', 'S'),\n",
       " ('F', 'F', 'S', 'F', 'F', 'S', 'F'),\n",
       " ('F', 'F', 'S', 'F', 'F', 'F', 'S'),\n",
       " ('F', 'F', 'S', 'F', 'F', 'F', 'F'),\n",
       " ('F', 'F', 'F', 'S', 'S', 'S', 'S'),\n",
       " ('F', 'F', 'F', 'S', 'S', 'S', 'F'),\n",
       " ('F', 'F', 'F', 'S', 'S', 'F', 'S'),\n",
       " ('F', 'F', 'F', 'S', 'S', 'F', 'F'),\n",
       " ('F', 'F', 'F', 'S', 'F', 'S', 'S'),\n",
       " ('F', 'F', 'F', 'S', 'F', 'S', 'F'),\n",
       " ('F', 'F', 'F', 'S', 'F', 'F', 'S'),\n",
       " ('F', 'F', 'F', 'S', 'F', 'F', 'F'),\n",
       " ('F', 'F', 'F', 'F', 'S', 'S', 'S'),\n",
       " ('F', 'F', 'F', 'F', 'S', 'S', 'F'),\n",
       " ('F', 'F', 'F', 'F', 'S', 'F', 'S'),\n",
       " ('F', 'F', 'F', 'F', 'S', 'F', 'F'),\n",
       " ('F', 'F', 'F', 'F', 'F', 'S', 'S'),\n",
       " ('F', 'F', 'F', 'F', 'F', 'S', 'F'),\n",
       " ('F', 'F', 'F', 'F', 'F', 'F', 'S'),\n",
       " ('F', 'F', 'F', 'F', 'F', 'F', 'F')]"
      ]
     },
     "execution_count": 111,
     "metadata": {},
     "output_type": "execute_result"
    }
   ],
   "source": [
    "possibilidades = [\"S\", \"F\"]\n",
    "\n",
    "prob = {\"S\": 0.95, \"F\":0.05}\n",
    "\n",
    "n=7\n",
    "\n",
    "arranjos = itertools.product(possibilidades, repeat=n)\n",
    "espaco_amostral = list(arranjos)\n",
    "\n",
    "espaco_amostral"
   ]
  },
  {
   "cell_type": "markdown",
   "metadata": {},
   "source": [
    "Probabilidade de cada resultado do espaço amostral acontecer:"
   ]
  },
  {
   "cell_type": "code",
   "execution_count": 112,
   "metadata": {},
   "outputs": [
    {
     "name": "stdout",
     "output_type": "stream",
     "text": [
      "Probabilidade de  ('S', 'S', 'S', 'S', 'S', 'S', 'S')  é igual a  0.69834\n",
      "Probabilidade de  ('S', 'S', 'S', 'S', 'S', 'S', 'F')  é igual a  0.03675\n",
      "Probabilidade de  ('S', 'S', 'S', 'S', 'S', 'F', 'S')  é igual a  0.03675\n",
      "Probabilidade de  ('S', 'S', 'S', 'S', 'S', 'F', 'F')  é igual a  0.00193\n",
      "Probabilidade de  ('S', 'S', 'S', 'S', 'F', 'S', 'S')  é igual a  0.03675\n",
      "Probabilidade de  ('S', 'S', 'S', 'S', 'F', 'S', 'F')  é igual a  0.00193\n",
      "Probabilidade de  ('S', 'S', 'S', 'S', 'F', 'F', 'S')  é igual a  0.00193\n",
      "Probabilidade de  ('S', 'S', 'S', 'S', 'F', 'F', 'F')  é igual a  0.00010\n",
      "Probabilidade de  ('S', 'S', 'S', 'F', 'S', 'S', 'S')  é igual a  0.03675\n",
      "Probabilidade de  ('S', 'S', 'S', 'F', 'S', 'S', 'F')  é igual a  0.00193\n",
      "Probabilidade de  ('S', 'S', 'S', 'F', 'S', 'F', 'S')  é igual a  0.00193\n",
      "Probabilidade de  ('S', 'S', 'S', 'F', 'S', 'F', 'F')  é igual a  0.00010\n",
      "Probabilidade de  ('S', 'S', 'S', 'F', 'F', 'S', 'S')  é igual a  0.00193\n",
      "Probabilidade de  ('S', 'S', 'S', 'F', 'F', 'S', 'F')  é igual a  0.00010\n",
      "Probabilidade de  ('S', 'S', 'S', 'F', 'F', 'F', 'S')  é igual a  0.00010\n",
      "Probabilidade de  ('S', 'S', 'S', 'F', 'F', 'F', 'F')  é igual a  0.00001\n",
      "Probabilidade de  ('S', 'S', 'F', 'S', 'S', 'S', 'S')  é igual a  0.03675\n",
      "Probabilidade de  ('S', 'S', 'F', 'S', 'S', 'S', 'F')  é igual a  0.00193\n",
      "Probabilidade de  ('S', 'S', 'F', 'S', 'S', 'F', 'S')  é igual a  0.00193\n",
      "Probabilidade de  ('S', 'S', 'F', 'S', 'S', 'F', 'F')  é igual a  0.00010\n",
      "Probabilidade de  ('S', 'S', 'F', 'S', 'F', 'S', 'S')  é igual a  0.00193\n",
      "Probabilidade de  ('S', 'S', 'F', 'S', 'F', 'S', 'F')  é igual a  0.00010\n",
      "Probabilidade de  ('S', 'S', 'F', 'S', 'F', 'F', 'S')  é igual a  0.00010\n",
      "Probabilidade de  ('S', 'S', 'F', 'S', 'F', 'F', 'F')  é igual a  0.00001\n",
      "Probabilidade de  ('S', 'S', 'F', 'F', 'S', 'S', 'S')  é igual a  0.00193\n",
      "Probabilidade de  ('S', 'S', 'F', 'F', 'S', 'S', 'F')  é igual a  0.00010\n",
      "Probabilidade de  ('S', 'S', 'F', 'F', 'S', 'F', 'S')  é igual a  0.00010\n",
      "Probabilidade de  ('S', 'S', 'F', 'F', 'S', 'F', 'F')  é igual a  0.00001\n",
      "Probabilidade de  ('S', 'S', 'F', 'F', 'F', 'S', 'S')  é igual a  0.00010\n",
      "Probabilidade de  ('S', 'S', 'F', 'F', 'F', 'S', 'F')  é igual a  0.00001\n",
      "Probabilidade de  ('S', 'S', 'F', 'F', 'F', 'F', 'S')  é igual a  0.00001\n",
      "Probabilidade de  ('S', 'S', 'F', 'F', 'F', 'F', 'F')  é igual a  0.00000\n",
      "Probabilidade de  ('S', 'F', 'S', 'S', 'S', 'S', 'S')  é igual a  0.03675\n",
      "Probabilidade de  ('S', 'F', 'S', 'S', 'S', 'S', 'F')  é igual a  0.00193\n",
      "Probabilidade de  ('S', 'F', 'S', 'S', 'S', 'F', 'S')  é igual a  0.00193\n",
      "Probabilidade de  ('S', 'F', 'S', 'S', 'S', 'F', 'F')  é igual a  0.00010\n",
      "Probabilidade de  ('S', 'F', 'S', 'S', 'F', 'S', 'S')  é igual a  0.00193\n",
      "Probabilidade de  ('S', 'F', 'S', 'S', 'F', 'S', 'F')  é igual a  0.00010\n",
      "Probabilidade de  ('S', 'F', 'S', 'S', 'F', 'F', 'S')  é igual a  0.00010\n",
      "Probabilidade de  ('S', 'F', 'S', 'S', 'F', 'F', 'F')  é igual a  0.00001\n",
      "Probabilidade de  ('S', 'F', 'S', 'F', 'S', 'S', 'S')  é igual a  0.00193\n",
      "Probabilidade de  ('S', 'F', 'S', 'F', 'S', 'S', 'F')  é igual a  0.00010\n",
      "Probabilidade de  ('S', 'F', 'S', 'F', 'S', 'F', 'S')  é igual a  0.00010\n",
      "Probabilidade de  ('S', 'F', 'S', 'F', 'S', 'F', 'F')  é igual a  0.00001\n",
      "Probabilidade de  ('S', 'F', 'S', 'F', 'F', 'S', 'S')  é igual a  0.00010\n",
      "Probabilidade de  ('S', 'F', 'S', 'F', 'F', 'S', 'F')  é igual a  0.00001\n",
      "Probabilidade de  ('S', 'F', 'S', 'F', 'F', 'F', 'S')  é igual a  0.00001\n",
      "Probabilidade de  ('S', 'F', 'S', 'F', 'F', 'F', 'F')  é igual a  0.00000\n",
      "Probabilidade de  ('S', 'F', 'F', 'S', 'S', 'S', 'S')  é igual a  0.00193\n",
      "Probabilidade de  ('S', 'F', 'F', 'S', 'S', 'S', 'F')  é igual a  0.00010\n",
      "Probabilidade de  ('S', 'F', 'F', 'S', 'S', 'F', 'S')  é igual a  0.00010\n",
      "Probabilidade de  ('S', 'F', 'F', 'S', 'S', 'F', 'F')  é igual a  0.00001\n",
      "Probabilidade de  ('S', 'F', 'F', 'S', 'F', 'S', 'S')  é igual a  0.00010\n",
      "Probabilidade de  ('S', 'F', 'F', 'S', 'F', 'S', 'F')  é igual a  0.00001\n",
      "Probabilidade de  ('S', 'F', 'F', 'S', 'F', 'F', 'S')  é igual a  0.00001\n",
      "Probabilidade de  ('S', 'F', 'F', 'S', 'F', 'F', 'F')  é igual a  0.00000\n",
      "Probabilidade de  ('S', 'F', 'F', 'F', 'S', 'S', 'S')  é igual a  0.00010\n",
      "Probabilidade de  ('S', 'F', 'F', 'F', 'S', 'S', 'F')  é igual a  0.00001\n",
      "Probabilidade de  ('S', 'F', 'F', 'F', 'S', 'F', 'S')  é igual a  0.00001\n",
      "Probabilidade de  ('S', 'F', 'F', 'F', 'S', 'F', 'F')  é igual a  0.00000\n",
      "Probabilidade de  ('S', 'F', 'F', 'F', 'F', 'S', 'S')  é igual a  0.00001\n",
      "Probabilidade de  ('S', 'F', 'F', 'F', 'F', 'S', 'F')  é igual a  0.00000\n",
      "Probabilidade de  ('S', 'F', 'F', 'F', 'F', 'F', 'S')  é igual a  0.00000\n",
      "Probabilidade de  ('S', 'F', 'F', 'F', 'F', 'F', 'F')  é igual a  0.00000\n",
      "Probabilidade de  ('F', 'S', 'S', 'S', 'S', 'S', 'S')  é igual a  0.03675\n",
      "Probabilidade de  ('F', 'S', 'S', 'S', 'S', 'S', 'F')  é igual a  0.00193\n",
      "Probabilidade de  ('F', 'S', 'S', 'S', 'S', 'F', 'S')  é igual a  0.00193\n",
      "Probabilidade de  ('F', 'S', 'S', 'S', 'S', 'F', 'F')  é igual a  0.00010\n",
      "Probabilidade de  ('F', 'S', 'S', 'S', 'F', 'S', 'S')  é igual a  0.00193\n",
      "Probabilidade de  ('F', 'S', 'S', 'S', 'F', 'S', 'F')  é igual a  0.00010\n",
      "Probabilidade de  ('F', 'S', 'S', 'S', 'F', 'F', 'S')  é igual a  0.00010\n",
      "Probabilidade de  ('F', 'S', 'S', 'S', 'F', 'F', 'F')  é igual a  0.00001\n",
      "Probabilidade de  ('F', 'S', 'S', 'F', 'S', 'S', 'S')  é igual a  0.00193\n",
      "Probabilidade de  ('F', 'S', 'S', 'F', 'S', 'S', 'F')  é igual a  0.00010\n",
      "Probabilidade de  ('F', 'S', 'S', 'F', 'S', 'F', 'S')  é igual a  0.00010\n",
      "Probabilidade de  ('F', 'S', 'S', 'F', 'S', 'F', 'F')  é igual a  0.00001\n",
      "Probabilidade de  ('F', 'S', 'S', 'F', 'F', 'S', 'S')  é igual a  0.00010\n",
      "Probabilidade de  ('F', 'S', 'S', 'F', 'F', 'S', 'F')  é igual a  0.00001\n",
      "Probabilidade de  ('F', 'S', 'S', 'F', 'F', 'F', 'S')  é igual a  0.00001\n",
      "Probabilidade de  ('F', 'S', 'S', 'F', 'F', 'F', 'F')  é igual a  0.00000\n",
      "Probabilidade de  ('F', 'S', 'F', 'S', 'S', 'S', 'S')  é igual a  0.00193\n",
      "Probabilidade de  ('F', 'S', 'F', 'S', 'S', 'S', 'F')  é igual a  0.00010\n",
      "Probabilidade de  ('F', 'S', 'F', 'S', 'S', 'F', 'S')  é igual a  0.00010\n",
      "Probabilidade de  ('F', 'S', 'F', 'S', 'S', 'F', 'F')  é igual a  0.00001\n",
      "Probabilidade de  ('F', 'S', 'F', 'S', 'F', 'S', 'S')  é igual a  0.00010\n",
      "Probabilidade de  ('F', 'S', 'F', 'S', 'F', 'S', 'F')  é igual a  0.00001\n",
      "Probabilidade de  ('F', 'S', 'F', 'S', 'F', 'F', 'S')  é igual a  0.00001\n",
      "Probabilidade de  ('F', 'S', 'F', 'S', 'F', 'F', 'F')  é igual a  0.00000\n",
      "Probabilidade de  ('F', 'S', 'F', 'F', 'S', 'S', 'S')  é igual a  0.00010\n",
      "Probabilidade de  ('F', 'S', 'F', 'F', 'S', 'S', 'F')  é igual a  0.00001\n",
      "Probabilidade de  ('F', 'S', 'F', 'F', 'S', 'F', 'S')  é igual a  0.00001\n",
      "Probabilidade de  ('F', 'S', 'F', 'F', 'S', 'F', 'F')  é igual a  0.00000\n",
      "Probabilidade de  ('F', 'S', 'F', 'F', 'F', 'S', 'S')  é igual a  0.00001\n",
      "Probabilidade de  ('F', 'S', 'F', 'F', 'F', 'S', 'F')  é igual a  0.00000\n",
      "Probabilidade de  ('F', 'S', 'F', 'F', 'F', 'F', 'S')  é igual a  0.00000\n",
      "Probabilidade de  ('F', 'S', 'F', 'F', 'F', 'F', 'F')  é igual a  0.00000\n",
      "Probabilidade de  ('F', 'F', 'S', 'S', 'S', 'S', 'S')  é igual a  0.00193\n",
      "Probabilidade de  ('F', 'F', 'S', 'S', 'S', 'S', 'F')  é igual a  0.00010\n",
      "Probabilidade de  ('F', 'F', 'S', 'S', 'S', 'F', 'S')  é igual a  0.00010\n",
      "Probabilidade de  ('F', 'F', 'S', 'S', 'S', 'F', 'F')  é igual a  0.00001\n",
      "Probabilidade de  ('F', 'F', 'S', 'S', 'F', 'S', 'S')  é igual a  0.00010\n",
      "Probabilidade de  ('F', 'F', 'S', 'S', 'F', 'S', 'F')  é igual a  0.00001\n",
      "Probabilidade de  ('F', 'F', 'S', 'S', 'F', 'F', 'S')  é igual a  0.00001\n",
      "Probabilidade de  ('F', 'F', 'S', 'S', 'F', 'F', 'F')  é igual a  0.00000\n",
      "Probabilidade de  ('F', 'F', 'S', 'F', 'S', 'S', 'S')  é igual a  0.00010\n",
      "Probabilidade de  ('F', 'F', 'S', 'F', 'S', 'S', 'F')  é igual a  0.00001\n",
      "Probabilidade de  ('F', 'F', 'S', 'F', 'S', 'F', 'S')  é igual a  0.00001\n",
      "Probabilidade de  ('F', 'F', 'S', 'F', 'S', 'F', 'F')  é igual a  0.00000\n",
      "Probabilidade de  ('F', 'F', 'S', 'F', 'F', 'S', 'S')  é igual a  0.00001\n",
      "Probabilidade de  ('F', 'F', 'S', 'F', 'F', 'S', 'F')  é igual a  0.00000\n",
      "Probabilidade de  ('F', 'F', 'S', 'F', 'F', 'F', 'S')  é igual a  0.00000\n",
      "Probabilidade de  ('F', 'F', 'S', 'F', 'F', 'F', 'F')  é igual a  0.00000\n",
      "Probabilidade de  ('F', 'F', 'F', 'S', 'S', 'S', 'S')  é igual a  0.00010\n",
      "Probabilidade de  ('F', 'F', 'F', 'S', 'S', 'S', 'F')  é igual a  0.00001\n",
      "Probabilidade de  ('F', 'F', 'F', 'S', 'S', 'F', 'S')  é igual a  0.00001\n",
      "Probabilidade de  ('F', 'F', 'F', 'S', 'S', 'F', 'F')  é igual a  0.00000\n",
      "Probabilidade de  ('F', 'F', 'F', 'S', 'F', 'S', 'S')  é igual a  0.00001\n",
      "Probabilidade de  ('F', 'F', 'F', 'S', 'F', 'S', 'F')  é igual a  0.00000\n",
      "Probabilidade de  ('F', 'F', 'F', 'S', 'F', 'F', 'S')  é igual a  0.00000\n",
      "Probabilidade de  ('F', 'F', 'F', 'S', 'F', 'F', 'F')  é igual a  0.00000\n",
      "Probabilidade de  ('F', 'F', 'F', 'F', 'S', 'S', 'S')  é igual a  0.00001\n",
      "Probabilidade de  ('F', 'F', 'F', 'F', 'S', 'S', 'F')  é igual a  0.00000\n",
      "Probabilidade de  ('F', 'F', 'F', 'F', 'S', 'F', 'S')  é igual a  0.00000\n",
      "Probabilidade de  ('F', 'F', 'F', 'F', 'S', 'F', 'F')  é igual a  0.00000\n",
      "Probabilidade de  ('F', 'F', 'F', 'F', 'F', 'S', 'S')  é igual a  0.00000\n",
      "Probabilidade de  ('F', 'F', 'F', 'F', 'F', 'S', 'F')  é igual a  0.00000\n",
      "Probabilidade de  ('F', 'F', 'F', 'F', 'F', 'F', 'S')  é igual a  0.00000\n",
      "Probabilidade de  ('F', 'F', 'F', 'F', 'F', 'F', 'F')  é igual a  0.00000\n"
     ]
    }
   ],
   "source": [
    "prob_linhas = []\n",
    "\n",
    "for res in espaco_amostral:\n",
    "    p = 1.0\n",
    "    for e in res:\n",
    "        p*=prob[e]\n",
    "    prob_linhas.append(p)\n",
    "    print(\"Probabilidade de \",res,\" é igual a \",\"%3.5f\"%p)"
   ]
  },
  {
   "cell_type": "code",
   "execution_count": 113,
   "metadata": {},
   "outputs": [
    {
     "data": {
      "text/plain": [
       "'1.00000'"
      ]
     },
     "execution_count": 113,
     "metadata": {},
     "output_type": "execute_result"
    }
   ],
   "source": [
    "#Conferindo\n",
    "\n",
    "\"%3.5f\"%sum(prob_linhas)"
   ]
  },
  {
   "cell_type": "markdown",
   "metadata": {},
   "source": [
    "2 - B) Distribuição de probabilidades de Y:"
   ]
  },
  {
   "cell_type": "code",
   "execution_count": 114,
   "metadata": {},
   "outputs": [
    {
     "name": "stdout",
     "output_type": "stream",
     "text": [
      "Distribuição de probabilidades da variável aleatória Y - Resistores que falharam\n",
      "\n",
      "Falhas:  0  Probabilidade 0.69834 \n",
      "Falhas:  1  Probabilidade 0.25728 \n",
      "Falhas:  2  Probabilidade 0.04062 \n",
      "Falhas:  3  Probabilidade 0.00356 \n",
      "Falhas:  4  Probabilidade 0.00019 \n",
      "Falhas:  5  Probabilidade 0.00001 \n",
      "Falhas:  6  Probabilidade 0.00000 \n",
      "Falhas:  7  Probabilidade 0.00000 \n"
     ]
    }
   ],
   "source": [
    "# Dicionário para acumular a variável aleatória. \n",
    "valores_Y = {}\n",
    "\n",
    "for i in range(len(espaco_amostral)):\n",
    "    y = espaco_amostral[i].count(\"F\")\n",
    "    # Checar antes se a chave está no dicionário\n",
    "    if y in valores_Y:\n",
    "        valores_Y[y] += prob_linhas[i]\n",
    "    else:\n",
    "        valores_Y[y] = prob_linhas[i]\n",
    "        \n",
    "print(\"Distribuição de probabilidades da variável aleatória Y - Resistores que falharam\")\n",
    "print('')\n",
    "for y in valores_Y:\n",
    "    print(\"Falhas: \", y, \" Probabilidade\", \"%6.5f \"%valores_Y[y])"
   ]
  },
  {
   "cell_type": "markdown",
   "metadata": {},
   "source": [
    "2 - C) Média e Desvio Padrão:"
   ]
  },
  {
   "cell_type": "code",
   "execution_count": 115,
   "metadata": {},
   "outputs": [
    {
     "name": "stdout",
     "output_type": "stream",
     "text": [
      "0.3325000000999999\n",
      "Média: 0.35001000000000004 Desvio Padrão: 0.5766281298202507\n"
     ]
    }
   ],
   "source": [
    "Mean = 0.69834*0 +  0.25728*1 + 0.04062 *2 + 0.00356* 3 + 0.00019*4 + 0.00001*5 + 0.00000*6 + 0.00000*7\n",
    "\n",
    "Var = 0\n",
    "for i in valores_Y:\n",
    "    Var = Var+(i-Mean)**2*valores_Y[i]\n",
    "DP = (Var)**(1/2)\n",
    "print(Var)\n",
    "\n",
    "print('Média:',Mean,'Desvio Padrão:',DP)"
   ]
  },
  {
   "cell_type": "markdown",
   "metadata": {},
   "source": [
    "2 - D)\n",
    "distribuição de probabilidades de cada possível valor de  Y (de 0 falhas à 7):"
   ]
  },
  {
   "cell_type": "code",
   "execution_count": 116,
   "metadata": {},
   "outputs": [
    {
     "name": "stdout",
     "output_type": "stream",
     "text": [
      "0.999999994531\n",
      "5.46874997437e-09\n",
      "1.28173827624e-17\n",
      "1.6689300485e-26\n",
      "1.30385160141e-35\n",
      "6.11180438636e-45\n",
      "1.59161572686e-54\n",
      "1.7763568394e-64\n"
     ]
    }
   ],
   "source": [
    "n=7\n",
    "for i in range(8):\n",
    "    P = stats.binom.pmf(i, n, p)\n",
    "    print(P)\n"
   ]
  },
  {
   "cell_type": "markdown",
   "metadata": {},
   "source": [
    "Esperança e Variância de Y:"
   ]
  },
  {
   "cell_type": "code",
   "execution_count": 117,
   "metadata": {},
   "outputs": [
    {
     "name": "stdout",
     "output_type": "stream",
     "text": [
      "0.35000000000000003\n",
      "0.3325\n"
     ]
    }
   ],
   "source": [
    "n = 7\n",
    "p = 0.05\n",
    "E,Var = stats.binom.stats(n, p, moments='mv')\n",
    "print(E) #E(Y)\n",
    "print(Var) #Var(Y)"
   ]
  },
  {
   "cell_type": "markdown",
   "metadata": {},
   "source": [
    "3 - A) distribuição de probabilidades de cada possível valor de  Y (de 0 falhas à 100):"
   ]
  },
  {
   "cell_type": "code",
   "execution_count": 118,
   "metadata": {},
   "outputs": [
    {
     "name": "stdout",
     "output_type": "stream",
     "text": [
      "0.00592052922033\n",
      "0.031160680107\n",
      "0.0811817718578\n",
      "0.139575677931\n",
      "0.17814264157\n",
      "0.18001782727\n",
      "0.150014856059\n",
      "0.106025537365\n",
      "0.0648708879929\n",
      "0.034901296464\n",
      "0.0167158840959\n",
      "0.00719822760112\n",
      "0.00280983445833\n",
      "0.00100107462483\n",
      "0.000327419144212\n",
      "9.88001628147e-05\n",
      "2.76250455238e-05\n",
      "7.18422236534e-06\n",
      "1.74353934597e-06\n",
      "3.96039408227e-07\n",
      "8.44189264904e-08\n",
      "1.69261005495e-08\n",
      "3.19895201772e-09\n",
      "5.70979994009e-10\n",
      "9.64154814446e-11\n",
      "1.54264770311e-11\n",
      "2.34207647234e-12\n",
      "3.37843389772e-13\n",
      "4.63582094988e-14\n",
      "6.05769706699e-15\n",
      "7.54555248695e-16\n",
      "8.96754964494e-17\n",
      "1.01769889063e-17\n",
      "1.10372447468e-18\n",
      "1.14472971832e-19\n",
      "1.13612272796e-20\n",
      "1.07964879119e-21\n",
      "9.82895058836e-23\n",
      "8.57650813112e-24\n",
      "7.17602569675e-25\n",
      "5.75970483555e-26\n",
      "4.43622965511e-27\n",
      "3.27991916857e-28\n",
      "2.32846158846e-29\n",
      "1.58758744667e-30\n",
      "1.03982335689e-31\n",
      "6.54351082709e-33\n",
      "3.95688224706e-34\n",
      "2.29950393744e-35\n",
      "1.28436310147e-36\n",
      "6.89500191315e-38\n",
      "3.55779252484e-39\n",
      "1.7644922441e-40\n",
      "8.410687956e-42\n",
      "3.8528492586e-43\n",
      "1.6959910612e-44\n",
      "7.17289452575e-46\n",
      "2.91419537519e-47\n",
      "1.13711797762e-48\n",
      "4.26038849776e-50\n",
      "1.53224498604e-51\n",
      "5.2881621606e-53\n",
      "1.75074978152e-54\n",
      "5.55793581436e-56\n",
      "1.69114823299e-57\n",
      "4.92966286539e-59\n",
      "1.37590271363e-60\n",
      "3.67483835533e-62\n",
      "9.3861970376e-64\n",
      "2.29106258736e-65\n",
      "5.34007069235e-67\n",
      "1.18756205167e-68\n",
      "2.5174926534e-70\n",
      "5.0821769499e-72\n",
      "9.75951476865e-74\n",
      "1.78068339639e-75\n",
      "3.08290061701e-77\n",
      "5.05738993905e-79\n",
      "7.8488507826e-81\n",
      "1.15039784955e-82\n",
      "1.58936545003e-84\n",
      "2.06545217678e-86\n",
      "2.51884411803e-88\n",
      "2.87502816262e-90\n",
      "3.06237335617e-92\n",
      "3.03393025998e-94\n",
      "2.78512569766e-96\n",
      "2.35884814079e-98\n",
      "1.83403264535e-100\n",
      "1.30150158156e-102\n",
      "8.37223239601e-105\n",
      "4.8422396738e-107\n",
      "2.49314399681e-109\n",
      "1.12875789329e-111\n",
      "4.42402309801e-114\n",
      "1.47058939546e-116\n",
      "4.03122093054e-119\n",
      "8.74925866639e-122\n",
      "1.40965499458e-124\n",
      "1.49883571992e-127\n",
      "7.88860905221e-131\n"
     ]
    }
   ],
   "source": [
    "n=100\n",
    "for i in range(101):\n",
    "    P = stats.binom.pmf(i, n, p)\n",
    "    print(P)\n"
   ]
  },
  {
   "cell_type": "markdown",
   "metadata": {},
   "source": [
    "Esperança e Variância de Y:"
   ]
  },
  {
   "cell_type": "code",
   "execution_count": 119,
   "metadata": {},
   "outputs": [
    {
     "name": "stdout",
     "output_type": "stream",
     "text": [
      "5.0\n",
      "4.75\n"
     ]
    }
   ],
   "source": [
    "n=100\n",
    "p = 0.05\n",
    "E,Var = stats.binom.stats(n, p, moments='mv')\n",
    "print(E) #E(Y)\n",
    "print(Var) #Var(Y)"
   ]
  },
  {
   "cell_type": "markdown",
   "metadata": {},
   "source": [
    "3 - B) Probabilidade de, em um pacote com 100 resistores, pelo menos a metade deles apresentarem falha:"
   ]
  },
  {
   "cell_type": "code",
   "execution_count": 120,
   "metadata": {},
   "outputs": [
    {
     "name": "stdout",
     "output_type": "stream",
     "text": [
      "A probabilidade de pelo menos metade falhar é de: 0.8720395213796206\n"
     ]
    }
   ],
   "source": [
    "n = 100\n",
    "p = 0.05\n",
    "prob in range (49)\n",
    "print('A probabilidade de pelo menos metade falhar é de: {0}'.format(stats.binom.cdf(y, n, p)))"
   ]
  },
  {
   "cell_type": "markdown",
   "metadata": {
    "collapsed": true
   },
   "source": [
    "___\n",
    "## <font color='blue'>Exercício 2</font>\n",
    "\n",
    "Esse exercício irá explorar modelos de distribuição de Poisson.\n",
    "\n",
    "Uma fábrica produz determinado veículo. O gerente de vendas fechou um negócio que implica na produção de pelo menos 110 unidades nos próximos dois meses. Para isso, será construída uma nova linha de montagem com capacidade para produzir em média 50 veículos por mês (considere meses de 30 dias). A linha funcionará ininterruptamente. Além disso, apenas um veículo é produzido por vez. Considere que um modelo Poisson seja adequado para a quantidade de veículos produzidos.\n",
    "   1. Qual a probabilidade  da produção ser igual a 100 veículos nos próximos dois meses?\n",
    "   2. Qual a probabilidade  da produção ser de pelo menos 100 veículos nos próximos dois meses?\n",
    "   3. Qual a probabilidade da produção ser entre 100 e 110 veículos nos próximos dois meses?\n",
    "   4. Se forem produzidos de pelo menos 100 veículos no próximo mês, qual a probabilidade do gerente cumprir a meta negociada?\n",
    "   5. Caso o prazo seja cumprido, o lucro será da ordem de $250$ mil, caso não seja, o lucro cai para $200$ mil. Qual é o lucro esperado e seu desvio-padrão?\n",
    "\n",
    "**Observação:** Explore os comandos de `stats.poisson`. <sup>[http://docs.scipy.org/doc/scipy/reference/generated/scipy.stats.poisson.html]\n"
   ]
  },
  {
   "cell_type": "code",
   "execution_count": null,
   "metadata": {
    "collapsed": true
   },
   "outputs": [],
   "source": []
  }
 ],
 "metadata": {
  "anaconda-cloud": {},
  "kernelspec": {
   "display_name": "Python 3",
   "language": "python",
   "name": "python3"
  },
  "language_info": {
   "codemirror_mode": {
    "name": "ipython",
    "version": 3
   },
   "file_extension": ".py",
   "mimetype": "text/x-python",
   "name": "python",
   "nbconvert_exporter": "python",
   "pygments_lexer": "ipython3",
   "version": "3.6.1"
  }
 },
 "nbformat": 4,
 "nbformat_minor": 1
}
